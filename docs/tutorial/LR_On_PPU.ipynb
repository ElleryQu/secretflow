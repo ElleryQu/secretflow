{
 "cells": [
  {
   "cell_type": "markdown",
   "id": "6d742657-8e6a-439d-a65a-3c76e73c8810",
   "metadata": {},
   "source": [
    "# Logistic Regression On PPU"
   ]
  },
  {
   "cell_type": "markdown",
   "id": "ff9c4ba5-a4a8-46ec-96e3-611ef5e71dc5",
   "metadata": {},
   "source": [
    "PPU(Privacy-Preserving Processing Unit)是可证、可度量的密态设备，使用MPC协议进行隐私计算，目前支持SPDZ-2k, ABY3协议。PPU提供了基础的张量计算能力，以[XLA HLO](https://www.tensorflow.org/xla)作为IR，因此用户可以使用支持XLA的前端进行编程，如JAX, TensorFLow, PyTorch。关于PPU的更多细节，请参考：[PPU官方文档](https://ppu.antfin-inc.com/index.html)。\n",
    "\n",
    "目前，PPU对JAX的支持比较完善，其他框架的支持没有得到充分测试，因此以下教程我们将使用JAX。\n",
    "\n",
    "通过以下教程，你将初步了解如何在PPU进行机器学习建模。\n",
    "\n",
    "这次教程我们选取了[Breast Cancer](https://archive.ics.uci.edu/ml/datasets/breast+cancer+wisconsin+(diagnostic))，这是一个简单的二分类数据集，提供了三十个特征以判断是良性还是恶性乳腺癌。我们的场景是纵向分布，两方各自提供十五个特征最后得到一个逻辑回归模型。\n",
    "\n",
    "第一步，我们先不考虑隐私计算的语义，直接利用JAX框架在明文下训练一个逻辑回归模型。"
   ]
  },
  {
   "cell_type": "markdown",
   "id": "629aad7f",
   "metadata": {},
   "source": [
    "## 明文逻辑回归"
   ]
  },
  {
   "cell_type": "markdown",
   "id": "d9774618-798e-421f-9be0-4fb954d7c710",
   "metadata": {},
   "source": [
    "### 产生数据\n",
    "\n",
    "为了模拟纵向分布的场景，`load_dataset`将特征对半划分，一方持有一半特征和标签，另一方只持有特征。"
   ]
  },
  {
   "cell_type": "code",
   "execution_count": 1,
   "id": "364a380e-9cea-42e3-8ab5-06635df97478",
   "metadata": {
    "tags": []
   },
   "outputs": [],
   "source": [
    "import numpy as np\n",
    "from sklearn.datasets import load_breast_cancer\n",
    "\n",
    "\n",
    "def load_dataset(return_label=False) -> (np.ndarray, np.ndarray):\n",
    "    features, label = load_breast_cancer(return_X_y=True)\n",
    "\n",
    "    if return_label:\n",
    "        return features[:, 15:], label\n",
    "    else:\n",
    "        return features[:, :15], None"
   ]
  },
  {
   "cell_type": "markdown",
   "id": "8b3893fc-5f6f-4508-a93b-1fee64b6806d",
   "metadata": {},
   "source": [
    "然后，我们对数据进行预处理，这有助于提升模型效果。这里我们使用sklearn对数据集进行均值方差归一化，使得各个特征符合标准正态分布。"
   ]
  },
  {
   "cell_type": "code",
   "execution_count": 2,
   "id": "002e2e86-bacf-4ff0-b3d1-891e62e4ae2c",
   "metadata": {
    "tags": []
   },
   "outputs": [],
   "source": [
    "from sklearn.preprocessing import StandardScaler\n",
    "\n",
    "def transform(data):\n",
    "    scaler = StandardScaler()\n",
    "    return scaler.fit_transform(data)"
   ]
  },
  {
   "cell_type": "markdown",
   "id": "fb400b1f-f516-4348-8812-e05a2e8f5e17",
   "metadata": {
    "tags": []
   },
   "source": [
    "### 模型训练\n",
    "\n",
    "#### 模型定义\n",
    "首先，我们用JAX定义逻辑回归模型和损失函数。这是一份通用的代码，既可以CPU/GPU上运行，也可以在PPU运行，因此你可以很容易通过在CPU的运行结果检验PPU的正确性。"
   ]
  },
  {
   "cell_type": "code",
   "execution_count": 3,
   "id": "0ffb9d32-4150-41cb-a6e9-65cbccf6568a",
   "metadata": {},
   "outputs": [],
   "source": [
    "import jax.numpy as jnp\n",
    "from jax import grad, jit, vmap\n",
    "from jax import random\n",
    "\n",
    "\n",
    "def sigmoid(x):\n",
    "    return 1 / (1 + jnp.exp(-x))\n",
    "\n",
    "\n",
    "# Outputs probability of a label being true.\n",
    "def predict(W, b, inputs):\n",
    "    return sigmoid(jnp.dot(inputs, W) + b)\n",
    "\n",
    "\n",
    "# Training loss is the negative log-likelihood of the training examples.\n",
    "def loss(W, b, inputs, targets):\n",
    "    preds = predict(W, b, inputs)\n",
    "    label_probs = preds * targets + (1 - preds) * (1 - targets)\n",
    "    return -jnp.mean(jnp.log(label_probs))"
   ]
  },
  {
   "cell_type": "markdown",
   "id": "7eaaf2b4-6491-471a-85fb-d63236e4a564",
   "metadata": {},
   "source": [
    "其次，我们定义模型的优化器，为了简单起见，这里使用了SGD优化器。需要注意的是，x1, x2分别代表alice和bob的特征，由于是垂直划分，因此我们需要将它们按样本维度进行拼接。"
   ]
  },
  {
   "cell_type": "code",
   "execution_count": 4,
   "id": "71e01788-804f-4378-a268-b84c3940320a",
   "metadata": {},
   "outputs": [],
   "source": [
    "from jax import value_and_grad\n",
    "\n",
    "def train_step(W, b, x1, x2, y, learning_rate=1e-2) -> (np.ndarray, np.ndarray, np.ndarray):\n",
    "    x = jnp.concatenate([x1, x2], axis=1)\n",
    "    loss_value, Wb_grad  = value_and_grad(loss, (0, 1))(W, b, x, y)\n",
    "    W -= learning_rate * Wb_grad[0]\n",
    "    b -= learning_rate * Wb_grad[1]\n",
    "    return loss_value, W, b"
   ]
  },
  {
   "cell_type": "markdown",
   "id": "eac6baac-280c-44b4-b8a0-9a6eb3a76908",
   "metadata": {
    "tags": []
   },
   "source": [
    "#### 训练循环\n",
    "\n",
    "接下来，将上述的模型定义、损失函数、优化器组合成训练循环。在每个迭代中，我们将所有样本输入模型，更新参数，记录损失函数。"
   ]
  },
  {
   "cell_type": "code",
   "execution_count": 5,
   "id": "f15b0c71-5761-41aa-b70d-9ba242f8a795",
   "metadata": {
    "tags": []
   },
   "outputs": [],
   "source": [
    "def fit(W, b, x1, x2, y, epochs=1, learning_rate=1e-2):    \n",
    "    losses = jnp.array([])\n",
    "    for _ in range(epochs):\n",
    "        l, W, b = train_step(W, b, x1, x2, y, learning_rate=learning_rate)\n",
    "        losses = jnp.append(losses, l)\n",
    "    return losses, W, b"
   ]
  },
  {
   "cell_type": "markdown",
   "id": "74655110-6df8-4da9-8e33-b9b87a0a027d",
   "metadata": {},
   "source": [
    "#### 指标可视化\n",
    "\n",
    "我们可以观察训练集上的损失曲线变化，以进行参数调优。"
   ]
  },
  {
   "cell_type": "code",
   "execution_count": 6,
   "id": "61b1837c",
   "metadata": {},
   "outputs": [],
   "source": [
    "import matplotlib.pyplot as plt\n",
    "\n",
    "def plot_losses(losses):\n",
    "    plt.plot(np.arange(len(losses)), losses)\n",
    "    plt.xlabel('epoch')\n",
    "    plt.ylabel('loss')"
   ]
  },
  {
   "cell_type": "markdown",
   "id": "5dd8abd5",
   "metadata": {},
   "source": [
    "### 验证模型\n",
    "\n",
    "让我们来观察一下训练集上的准确率和AUC。"
   ]
  },
  {
   "cell_type": "code",
   "execution_count": 7,
   "id": "132fcee4",
   "metadata": {},
   "outputs": [],
   "source": [
    "from sklearn.metrics import roc_auc_score\n",
    "\n",
    "def validate_model(W,b,x,y):\n",
    "    y_pred = predict(W, b, jnp.concatenate([x1, x2], axis=1))\n",
    "    auc = roc_auc_score(y, y_pred)\n",
    "    acc = jnp.mean((y_pred > 0.5) == y)\n",
    "    print(f'auc={auc}, acc={acc}')"
   ]
  },
  {
   "cell_type": "markdown",
   "id": "581fac73",
   "metadata": {},
   "source": [
    "## Build Together"
   ]
  },
  {
   "cell_type": "code",
   "execution_count": 8,
   "id": "ad002d29",
   "metadata": {},
   "outputs": [
    {
     "name": "stderr",
     "output_type": "stream",
     "text": [
      "WARNING:absl:No GPU/TPU found, falling back to CPU. (Set TF_CPP_MIN_LOG_LEVEL=0 and rerun for more info.)\n"
     ]
    },
    {
     "name": "stdout",
     "output_type": "stream",
     "text": [
      "auc=0.9838539189260611, acc=0.9349736571311951\n"
     ]
    },
    {
     "data": {
      "image/png": "[encoded data removed]",
      "text/plain": [
       "<Figure size 432x288 with 1 Axes>"
      ]
     },
     "metadata": {
      "needs_background": "light"
     },
     "output_type": "display_data"
    }
   ],
   "source": [
    "%matplotlib inline\n",
    "\n",
    "# 1. 产生数据及预处理\n",
    "x1, _ = load_dataset(return_label=False)\n",
    "x2, y = load_dataset(return_label=True)\n",
    "\n",
    "x1 = transform(x1)\n",
    "x2 = transform(x2)\n",
    "\n",
    "# 2.训练模型\n",
    "W = jnp.zeros((30,))\n",
    "b = 0.0\n",
    "epochs = 10\n",
    "learning_rate = 1e-2\n",
    "\n",
    "losses, W, b = fit(W, b, x1, x2, y, epochs=10, learning_rate=1e-2)\n",
    "\n",
    "# 3.指标可视化\n",
    "plot_losses(losses)\n",
    "\n",
    "# 4. 验证模型\n",
    "validate_model(W,b, jnp.concatenate([x1, x2], axis=1), y)"
   ]
  },
  {
   "cell_type": "code",
   "execution_count": 9,
   "id": "3c9f6881-ed3e-487f-9eb2-c7c0dfa253c2",
   "metadata": {},
   "outputs": [],
   "source": [
    "import secretflow as sf\n",
    "\n",
    "sf.init(['alice', 'bob'], num_cpus=8, log_to_driver=True)"
   ]
  },
  {
   "cell_type": "markdown",
   "id": "8fe0ded7-d861-4506-9b87-4342629a8c5e",
   "metadata": {},
   "source": [
    "我们在物理设备上虚拟出三个逻辑设备\n",
    "- alice, bob：PYU设备，负责参与方本地的明文计算\n",
    "- ppu：PPU设备，由alice和bob构成，负责两方的密文计算"
   ]
  },
  {
   "cell_type": "code",
   "execution_count": 10,
   "id": "14c4f276-7eb0-4dd9-a39b-06b588bcc5bf",
   "metadata": {
    "tags": []
   },
   "outputs": [],
   "source": [
    "alice, bob = sf.PYU('alice'), sf.PYU('bob')\n",
    "ppu = sf.PPU(sf.utils.testing.cluster_def(['alice', 'bob']))"
   ]
  },
  {
   "cell_type": "markdown",
   "id": "57742bf6-7eb5-490a-a2a7-3b5ac37536f0",
   "metadata": {},
   "source": [
    "接下来，我们需要将load_dataset调度到逻辑设备alice、bob执行。在隐语中，用户可以通过`dev(fn)`将函数`fn`调度到指定的逻辑设备`dev`，后者可以是PYU、PPU、TEE等逻辑设备。函数执行返回对应的设备对象(DeviceObject)，设备对象可以理解为数据指针，指向位于远程的数据。"
   ]
  },
  {
   "cell_type": "code",
   "execution_count": 11,
   "id": "149864cc-ea35-4f3e-bb7a-2247ef835ea8",
   "metadata": {
    "tags": []
   },
   "outputs": [
    {
     "data": {
      "text/plain": [
       "(<secretflow.device.device.pyu.PYUObject at 0x7fa0a473aeb0>,\n",
       " <secretflow.device.device.pyu.PYUObject at 0x7fa2211a3f70>,\n",
       " <secretflow.device.device.pyu.PYUObject at 0x7fa2208f5ca0>)"
      ]
     },
     "execution_count": 11,
     "metadata": {},
     "output_type": "execute_result"
    }
   ],
   "source": [
    "x1, _ = alice(load_dataset)(return_label=False)\n",
    "x2, y = bob(load_dataset)(return_label=True)\n",
    "\n",
    "x1, x2, y"
   ]
  },
  {
   "cell_type": "markdown",
   "id": "8b3893fc-5f6f-4508-a93b-1fee64b6806d",
   "metadata": {},
   "source": [
    "然后，我们对数据进行预处理，这有助于提升模型效果。这里我们使用sklearn对数据集进行均值方差归一化，使得各个特征符合标准正态分布。"
   ]
  },
  {
   "cell_type": "code",
   "execution_count": 12,
   "id": "002e2e86-bacf-4ff0-b3d1-891e62e4ae2c",
   "metadata": {
    "tags": []
   },
   "outputs": [],
   "source": [
    "x1 = alice(transform)(x1)\n",
    "x2 = bob(transform)(x2)"
   ]
  },
  {
   "cell_type": "markdown",
   "id": "019e3f74-cfa8-458b-b3ca-6d3431d0e64d",
   "metadata": {},
   "source": [
    "在开始训练之前，我们将逻辑回归模型的参数W, b初始化为0，连同x1, x2, y一起传输到PPU上。这是因为每个设备都有自己的数据存储方式，在其上运行的函数只接受对应类型的DeviceObject作为输入。隐语提供了以下两种设备传输方式：\n",
    "- secretflow.to: 将一个python object或者device object传输到指定的设备\n",
    "- DeviceObject.to: 将一个device object传输到指定的设备"
   ]
  },
  {
   "cell_type": "code",
   "execution_count": 13,
   "id": "a899ee65-a963-4f75-b5bf-e97ed885b52f",
   "metadata": {
    "tags": []
   },
   "outputs": [
    {
     "name": "stdout",
     "output_type": "stream",
     "text": [
      "\u001b[2m\u001b[36m(PPURuntime pid=63880)\u001b[0m [2022-03-08 20:06:07.984] [info] [context.cc:58] connecting to mesh, id=root, self=0\n",
      "\u001b[2m\u001b[36m(PPURuntime pid=63881)\u001b[0m [2022-03-08 20:06:07.964] [info] [context.cc:58] connecting to mesh, id=root, self=1\n",
      "\u001b[2m\u001b[36m(PPURuntime pid=63881)\u001b[0m [2022-03-08 20:06:07.980] [info] [context.cc:83] try_connect to rank 0 not succeed, sleep_for 1000ms and retry.\n"
     ]
    },
    {
     "name": "stderr",
     "output_type": "stream",
     "text": [
      "\u001b[2m\u001b[36m(PPURuntime pid=63881)\u001b[0m I0308 20:06:07.964183 63881 external/com_github_brpc_brpc/src/brpc/server.cpp:1046] Server[ppu::link::internal::ReceiverServiceImpl] is serving on port=21397.\n",
      "\u001b[2m\u001b[36m(PPURuntime pid=63881)\u001b[0m I0308 20:06:07.964281 63881 external/com_github_brpc_brpc/src/brpc/server.cpp:1049] Check out http://k69b13338.eu95sqa:21397 in web browser.\n",
      "\u001b[2m\u001b[36m(PPURuntime pid=63880)\u001b[0m I0308 20:06:07.984158 63880 external/com_github_brpc_brpc/src/brpc/server.cpp:1046] Server[ppu::link::internal::ReceiverServiceImpl] is serving on port=56300.\n",
      "\u001b[2m\u001b[36m(PPURuntime pid=63880)\u001b[0m I0308 20:06:07.984239 63880 external/com_github_brpc_brpc/src/brpc/server.cpp:1049] Check out http://k69b13338.eu95sqa:56300 in web browser.\n"
     ]
    }
   ],
   "source": [
    "device = ppu\n",
    "\n",
    "W = jnp.zeros((30,))\n",
    "b = 0.0\n",
    "\n",
    "W_, b_, x1_, x2_, y_ = sf.to(device, W), sf.to(device, b), x1.to(device), x2.to(device), y.to(device)"
   ]
  },
  {
   "cell_type": "markdown",
   "id": "71fabe33-8a83-4cd7-97ef-66743ce4d492",
   "metadata": {},
   "source": [
    "以上准备工作就绪之后，我们就可以在PPU上开始训练了。训练完成之后，损失值和模型参数是存储在PPU上的PPUObject类型对象。"
   ]
  },
  {
   "cell_type": "code",
   "execution_count": 14,
   "id": "d2b3a1a2-f12d-4fe7-bea5-5a6e4faf01ab",
   "metadata": {},
   "outputs": [
    {
     "name": "stderr",
     "output_type": "stream",
     "text": [
      "\u001b[2m\u001b[36m(PPURuntime pid=63881)\u001b[0m I0308 20:06:08.065062 64226 external/com_github_brpc_brpc/src/brpc/socket.cpp:2202] Checking Socket{id=0 addr=127.0.0.1:56300} (0x7f3caef0bb40)\n",
      "\u001b[2m\u001b[36m(PPURuntime pid=63881)\u001b[0m I0308 20:06:08.065236 64226 external/com_github_brpc_brpc/src/brpc/socket.cpp:2262] Revived Socket{id=0 addr=127.0.0.1:56300} (0x7f3caef0bb40) (Connectable)\n"
     ]
    },
    {
     "data": {
      "text/plain": [
       "(<secretflow.device.device.ppu.PPUObject at 0x7fa22078e6d0>,\n",
       " <secretflow.device.device.ppu.PPUObject at 0x7fa22078e7f0>,\n",
       " <secretflow.device.device.ppu.PPUObject at 0x7fa22078e820>)"
      ]
     },
     "execution_count": 14,
     "metadata": {},
     "output_type": "execute_result"
    }
   ],
   "source": [
    "losses, W_, b_ = device(fit, static_argnames=['epochs'])(W_, b_, x1_, x2_, y_, epochs=10, learning_rate=1e-2)\n",
    "\n",
    "losses, W_, b_"
   ]
  },
  {
   "cell_type": "markdown",
   "id": "ea3a5d7b-f16d-4330-a96f-5a4f6b0a2996",
   "metadata": {},
   "source": [
    "### 指标可视化\n",
    "\n",
    "我们可以观察训练集上的损失曲线变化，以进行参数调优。但是`losses`此时为PPUObject，我们需要将它转换为python object。隐语提供了`sf.reveal`将任意类型的DeviceObject转换为python object。\n",
    "\n",
    "> 请谨慎使用`sf.reveal`，否则有可能造成数据隐私泄漏。"
   ]
  },
  {
   "cell_type": "code",
   "execution_count": 15,
   "id": "8a725cc8-21f4-4e02-ae77-a10f2dcd1187",
   "metadata": {},
   "outputs": [
    {
     "name": "stdout",
     "output_type": "stream",
     "text": [
      "\u001b[2m\u001b[36m(PPURuntime pid=63880)\u001b[0m [2022-03-08 20:06:08.980] [info] [context.cc:111] connected to mesh, id=root, self=0\n",
      "\u001b[2m\u001b[36m(PPURuntime pid=63881)\u001b[0m [2022-03-08 20:06:08.980] [info] [context.cc:111] connected to mesh, id=root, self=1\n",
      "\u001b[2m\u001b[36m(PPURuntime pid=63880)\u001b[0m 20:06:14 TRACE: [Profiling] PPU execution completed, input processing took 0.004173861s, execution took 5.960133054s, output processing took 4.4542e-05s, total time 5.964351457s.\n",
      "\u001b[2m\u001b[36m(PPURuntime pid=63881)\u001b[0m 20:06:14 TRACE: [Profiling] PPU execution completed, input processing took 0.004294032s, execution took 5.961247655s, output processing took 3.8232e-05s, total time 5.965579919s.\n"
     ]
    },
    {
     "data": {
      "text/plain": [
       "Text(0, 0.5, 'loss')"
      ]
     },
     "execution_count": 15,
     "metadata": {},
     "output_type": "execute_result"
    },
    {
     "data": {
      "image/png": "[encoded data removed]",
      "text/plain": [
       "<Figure size 432x288 with 1 Axes>"
      ]
     },
     "metadata": {
      "needs_background": "light"
     },
     "output_type": "display_data"
    }
   ],
   "source": [
    "%matplotlib inline\n",
    "\n",
    "import matplotlib.pyplot as plt\n",
    "\n",
    "losses = sf.reveal(losses)\n",
    "\n",
    "plt.plot(np.arange(len(losses)), losses)\n",
    "plt.xlabel('epoch')\n",
    "plt.ylabel('loss')"
   ]
  },
  {
   "cell_type": "markdown",
   "id": "a58ff0dc-e2ac-4dfe-b562-4f3e42059c02",
   "metadata": {},
   "source": [
    "最后，让我们来观察一下训练集上的准确率和AUC。由于标签是在bob这一侧，因此我们在PPU上对训练样本进行打分，并将打分结果`y_pred`传输到bob，并在bob完成准确率和AUC的计算。"
   ]
  },
  {
   "cell_type": "code",
   "execution_count": 16,
   "id": "9bdffb27-4a44-4ee6-ab00-30d1b906fb38",
   "metadata": {},
   "outputs": [
    {
     "name": "stdout",
     "output_type": "stream",
     "text": [
      "\u001b[2m\u001b[36m(PPURuntime pid=63880)\u001b[0m 20:06:15 TRACE: [Profiling] PPU execution completed, input processing took 0.000440146s, execution took 0.157971411s, output processing took 2.506e-05s, total time 0.158436617s.\n",
      "\u001b[2m\u001b[36m(PPURuntime pid=63881)\u001b[0m 20:06:15 TRACE: [Profiling] PPU execution completed, input processing took 0.000469365s, execution took 0.157679088s, output processing took 2.8232e-05s, total time 0.158176685s.\n",
      "auc=0.9838407060937583, acc=0.9349736571311951\n"
     ]
    },
    {
     "name": "stderr",
     "output_type": "stream",
     "text": [
      "\u001b[2m\u001b[36m(_run pid=63879)\u001b[0m 2022-03-08 20:06:15,546,546 DEBUG [xla_bridge.py:_init_backend:262] Initializing backend 'interpreter'\n",
      "\u001b[2m\u001b[36m(_run pid=63879)\u001b[0m 2022-03-08 20:06:15,550,550 DEBUG [xla_bridge.py:_init_backend:274] Backend 'interpreter' initialized\n",
      "\u001b[2m\u001b[36m(_run pid=63879)\u001b[0m 2022-03-08 20:06:15,550,550 DEBUG [xla_bridge.py:_init_backend:262] Initializing backend 'cpu'\n",
      "\u001b[2m\u001b[36m(_run pid=63879)\u001b[0m 2022-03-08 20:06:15,557,557 DEBUG [xla_bridge.py:_init_backend:274] Backend 'cpu' initialized\n",
      "\u001b[2m\u001b[36m(_run pid=63879)\u001b[0m 2022-03-08 20:06:15,557,557 DEBUG [xla_bridge.py:_init_backend:262] Initializing backend 'tpu_driver'\n",
      "\u001b[2m\u001b[36m(_run pid=63879)\u001b[0m 2022-03-08 20:06:15,558,558 INFO [xla_bridge.py:backends:247] Unable to initialize backend 'tpu_driver': NOT_FOUND: Unable to find driver in registry given worker: \n",
      "\u001b[2m\u001b[36m(_run pid=63879)\u001b[0m 2022-03-08 20:06:15,558,558 DEBUG [xla_bridge.py:_init_backend:262] Initializing backend 'gpu'\n",
      "\u001b[2m\u001b[36m(_run pid=63879)\u001b[0m 2022-03-08 20:06:15,558,558 INFO [xla_bridge.py:backends:247] Unable to initialize backend 'gpu': NOT_FOUND: Could not find registered platform with name: \"cuda\". Available platform names are: Interpreter Host\n",
      "\u001b[2m\u001b[36m(_run pid=63879)\u001b[0m 2022-03-08 20:06:15,558,558 DEBUG [xla_bridge.py:_init_backend:262] Initializing backend 'tpu'\n",
      "\u001b[2m\u001b[36m(_run pid=63879)\u001b[0m 2022-03-08 20:06:15,558,558 INFO [xla_bridge.py:backends:247] Unable to initialize backend 'tpu': INVALID_ARGUMENT: TpuPlatform is not available.\n",
      "\u001b[2m\u001b[36m(_run pid=63879)\u001b[0m 2022-03-08 20:06:15,558,558 WARNING [xla_bridge.py:backends:252] No GPU/TPU found, falling back to CPU. (Set TF_CPP_MIN_LOG_LEVEL=0 and rerun for more info.)\n",
      "\u001b[2m\u001b[36m(_run pid=63879)\u001b[0m 2022-03-08 20:06:15,561,561 DEBUG [dispatch.py:log_elapsed_time:184] Finished tracing + transforming _mean for jit in 0.001966714859008789 sec\n",
      "\u001b[2m\u001b[36m(_run pid=63879)\u001b[0m 2022-03-08 20:06:15,561,561 DEBUG [dispatch.py:lower_xla_callable:229] Compiling _mean (140442579858240 for args (ShapedArray(bool[569]),).\n"
     ]
    }
   ],
   "source": [
    "from sklearn.metrics import roc_auc_score\n",
    "\n",
    "y_pred_ = device(lambda W, b, x1, x2: predict(W, b, jnp.concatenate([x1, x2], axis=1)))(W_, b_, x1_, x2_)\n",
    "y_pred = y_pred_.to(bob)\n",
    "\n",
    "auc = bob(roc_auc_score)(y, y_pred)\n",
    "acc = bob(lambda y_true, y_pred: jnp.mean((y_pred > 0.5) == y_true))(y, y_pred)\n",
    "\n",
    "\n",
    "print(f'auc={sf.reveal(auc)}, acc={sf.reveal(acc)}')"
   ]
  },
  {
   "cell_type": "code",
   "execution_count": 17,
   "id": "7912d021",
   "metadata": {},
   "outputs": [
    {
     "name": "stderr",
     "output_type": "stream",
     "text": [
      "\u001b[2m\u001b[36m(_run pid=63879)\u001b[0m 2022-03-08 20:06:15,613,613 DEBUG [dispatch.py:log_elapsed_time:184] Finished XLA compilation of _mean in 0.04593181610107422 sec\n"
     ]
    }
   ],
   "source": [
    "import ray\n",
    "\n",
    "ray.shutdown()"
   ]
  },
  {
   "cell_type": "markdown",
   "id": "33492f50-383d-401f-804e-68b2f94594f7",
   "metadata": {},
   "source": [
    "以上我们演示了如何利用PPU进行逻辑回归建模，你可以尝试将其应用于你的数据集。"
   ]
  }
 ],
 "metadata": {
  "kernelspec": {
   "display_name": "Python 3 (ipykernel)",
   "language": "python",
   "name": "python3"
  },
  "language_info": {
   "codemirror_mode": {
    "name": "ipython",
    "version": 3
   },
   "file_extension": ".py",
   "mimetype": "text/x-python",
   "name": "python",
   "nbconvert_exporter": "python",
   "pygments_lexer": "ipython3",
   "version": "3.8.11"
  }
 },
 "nbformat": 4,
 "nbformat_minor": 5
}
