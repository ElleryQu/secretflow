{
 "cells": [
  {
   "cell_type": "markdown",
   "id": "6d742657-8e6a-439d-a65a-3c76e73c8810",
   "metadata": {},
   "source": [
    "# Logistic Regression with SPU"
   ]
  },
  {
   "cell_type": "markdown",
   "id": "5ddc86c8",
   "metadata": {},
   "source": [
    "*The following codes are demos only. It's **NOT for production** due to system security concerns, please **DO NOT** use it directly in production.*"
   ]
  },
  {
   "cell_type": "markdown",
   "id": "ff9c4ba5-a4a8-46ec-96e3-611ef5e71dc5",
   "metadata": {},
   "source": [
    "[SPU](https://spu.antfin-inc.com/) is a domain specific compiler and runtime suite, which provides provable secure computation service. SPU compiler uses [XLA](https://www.tensorflow.org/xla) as its front-end IR, which supports diverse AI framework (like Tensorflow, JAX and PyTorch). SPU compiler translates XLA to an IR which could be interpreted by the SPU runtime. Currently SPU team highly recommends using [JAX](https://github.com/google/jax) as the frontend.\n",
    "\n",
    "## Learning Objectives:\n",
    "\n",
    "After doing this lab, you'll know how to:\n",
    "\n",
    "* How to write a Logistic Regression trainning program with JAX.\n",
    "* How to convert a JAX program to a SPU(MPC) program painlessly.\n",
    "\n",
    "In this lab, we select [Breast Cancer](https://archive.ics.uci.edu/ml/datasets/breast+cancer+wisconsin+(diagnostic)) as the dataset. We need to decide whether cancer is malignant or benign with 30 features. In the MPC program, two parties will train the model jointly and each party would provide half of features(15).\n",
    "\n",
    "While, first, let's just forget MPC settings and just write a Logistic Regression trainning program with JAX directly."
   ]
  },
  {
   "cell_type": "markdown",
   "id": "629aad7f",
   "metadata": {},
   "source": [
    "## Train a model with JAX"
   ]
  },
  {
   "cell_type": "markdown",
   "id": "d9774618-798e-421f-9be0-4fb954d7c710",
   "metadata": {},
   "source": [
    "### Load the Dataset\n",
    "\n",
    "\n",
    "We are going to split the whole dataset into train and test subsets after normalization.\n",
    "* `load_train_dataset` returns train subsets. In order to simulate trainning with vertical dataset splitting, the `party_id` is provided.\n",
    "* `load_test_dataset` returns test subsets."
   ]
  },
  {
   "cell_type": "code",
   "execution_count": 1,
   "id": "364a380e-9cea-42e3-8ab5-06635df97478",
   "metadata": {
    "tags": []
   },
   "outputs": [],
   "source": [
    "import numpy as np\n",
    "from sklearn.datasets import load_breast_cancer\n",
    "from sklearn.model_selection import train_test_split\n",
    "from sklearn.preprocessing import StandardScaler\n",
    "\n",
    "\n",
    "def load_train_dataset(party_id=None) -> (np.ndarray, np.ndarray):\n",
    "    features, label = load_breast_cancer(return_X_y=True)\n",
    "    scaler = StandardScaler()\n",
    "    features = scaler.fit_transform(features)\n",
    "    X_train, _, y_train, _ = train_test_split(\n",
    "        features, label, test_size=0.8, random_state=42\n",
    "    )\n",
    "\n",
    "    if party_id:\n",
    "        if party_id == 1:\n",
    "            return X_train[:, 15:], _\n",
    "        else:\n",
    "            return X_train[:, :15], y_train\n",
    "    else:\n",
    "        return X_train, y_train\n",
    "\n",
    "\n",
    "def load_test_dataset():\n",
    "    features, label = load_breast_cancer(return_X_y=True)\n",
    "    scaler = StandardScaler()\n",
    "    features = scaler.fit_transform(features)\n",
    "    _, X_test, _, y_test = train_test_split(\n",
    "        features, label, test_size=0.8, random_state=42\n",
    "    )\n",
    "    return X_test, y_test\n"
   ]
  },
  {
   "cell_type": "markdown",
   "id": "fb400b1f-f516-4348-8812-e05a2e8f5e17",
   "metadata": {
    "tags": []
   },
   "source": [
    "### Define the Model\n",
    "\n",
    "First, let's define the loss function, which is a negative log-likelihood in our case."
   ]
  },
  {
   "cell_type": "code",
   "execution_count": 2,
   "id": "0ffb9d32-4150-41cb-a6e9-65cbccf6568a",
   "metadata": {},
   "outputs": [],
   "source": [
    "import jax.numpy as jnp\n",
    "from jax import grad, jit, vmap\n",
    "from jax import random\n",
    "\n",
    "\n",
    "def sigmoid(x):\n",
    "    return 1 / (1 + jnp.exp(-x))\n",
    "\n",
    "\n",
    "# Outputs probability of a label being true.\n",
    "def predict(W, b, inputs):\n",
    "    return sigmoid(jnp.dot(inputs, W) + b)\n",
    "\n",
    "\n",
    "# Training loss is the negative log-likelihood of the training examples.\n",
    "def loss(W, b, inputs, targets):\n",
    "    preds = predict(W, b, inputs)\n",
    "    label_probs = preds * targets + (1 - preds) * (1 - targets)\n",
    "    return -jnp.mean(jnp.log(label_probs))\n"
   ]
  },
  {
   "cell_type": "markdown",
   "id": "7eaaf2b4-6491-471a-85fb-d63236e4a564",
   "metadata": {},
   "source": [
    "Second, let's define a single train step with SGD optimizer. Just to remind you, x1 represents 15 features from one party while x2 represents the other 15 features from the other party."
   ]
  },
  {
   "cell_type": "code",
   "execution_count": 3,
   "id": "71e01788-804f-4378-a268-b84c3940320a",
   "metadata": {},
   "outputs": [],
   "source": [
    "from jax import value_and_grad\n",
    "\n",
    "\n",
    "def train_step(W, b, x1, x2, y, learning_rate):\n",
    "    x = jnp.concatenate([x1, x2], axis=1)\n",
    "    loss_value, Wb_grad = value_and_grad(loss, (0, 1))(W, b, x, y)\n",
    "    W -= learning_rate * Wb_grad[0]\n",
    "    b -= learning_rate * Wb_grad[1]\n",
    "    return loss_value, W, b\n"
   ]
  },
  {
   "cell_type": "markdown",
   "id": "eac6baac-280c-44b4-b8a0-9a6eb3a76908",
   "metadata": {
    "tags": []
   },
   "source": [
    "\n",
    "Last, let's build everything together as a `fit` method which returns the model and losses of each epoch."
   ]
  },
  {
   "cell_type": "code",
   "execution_count": 4,
   "id": "f15b0c71-5761-41aa-b70d-9ba242f8a795",
   "metadata": {
    "tags": []
   },
   "outputs": [],
   "source": [
    "def fit(W, b, x1, x2, y, epochs=1, learning_rate=1e-2):\n",
    "    losses = jnp.array([])\n",
    "    for _ in range(epochs):\n",
    "        l, W, b = train_step(W, b, x1, x2, y, learning_rate=learning_rate)\n",
    "        losses = jnp.append(losses, l)\n",
    "    return losses, W, b\n"
   ]
  },
  {
   "cell_type": "markdown",
   "id": "5dd8abd5",
   "metadata": {},
   "source": [
    "### Validate the Model\n",
    "\n",
    "We could use the AUC to validate a binary classification model."
   ]
  },
  {
   "cell_type": "code",
   "execution_count": 5,
   "id": "132fcee4",
   "metadata": {},
   "outputs": [],
   "source": [
    "from sklearn.metrics import roc_auc_score\n",
    "\n",
    "\n",
    "def validate_model(W, b, X_test, y_test):\n",
    "    y_pred = predict(W, b, X_test)\n",
    "    return roc_auc_score(y_test, y_pred)\n"
   ]
  },
  {
   "cell_type": "markdown",
   "id": "a27ff403",
   "metadata": {},
   "source": [
    "If you are interested, we could also plot loss after each epoch of trainning."
   ]
  },
  {
   "cell_type": "code",
   "execution_count": 6,
   "id": "61b1837c",
   "metadata": {},
   "outputs": [],
   "source": [
    "import matplotlib.pyplot as plt\n",
    "\n",
    "\n",
    "def plot_losses(losses):\n",
    "    plt.plot(np.arange(len(losses)), losses)\n",
    "    plt.xlabel('epoch')\n",
    "    plt.ylabel('loss')\n"
   ]
  },
  {
   "cell_type": "markdown",
   "id": "581fac73",
   "metadata": {},
   "source": [
    "### Have a try!\n",
    "\n",
    "Let's put everything we have together and train a LR model!"
   ]
  },
  {
   "cell_type": "code",
   "execution_count": 7,
   "id": "ad002d29",
   "metadata": {},
   "outputs": [
    {
     "name": "stderr",
     "output_type": "stream",
     "text": [
      "WARNING:absl:No GPU/TPU found, falling back to CPU. (Set TF_CPP_MIN_LOG_LEVEL=0 and rerun for more info.)\n"
     ]
    },
    {
     "name": "stdout",
     "output_type": "stream",
     "text": [
      "auc=0.9469048608226007\n"
     ]
    },
    {
     "data": {
      "image/png": "[encoded data removed]",
      "text/plain": [
       "<Figure size 432x288 with 1 Axes>"
      ]
     },
     "metadata": {
      "needs_background": "light"
     },
     "output_type": "display_data"
    }
   ],
   "source": [
    "%matplotlib inline\n",
    "\n",
    "# Load the data\n",
    "x1, _ = load_train_dataset(party_id=1)\n",
    "x2, y = load_train_dataset(party_id=2)\n",
    "\n",
    "# Hyperparameter\n",
    "W = jnp.zeros((30,))\n",
    "b = 0.0\n",
    "epochs = 10\n",
    "learning_rate = 1e-2\n",
    "\n",
    "# Train the model\n",
    "losses, W, b = fit(W, b, x1, x2, y, epochs=10, learning_rate=1e-2)\n",
    "\n",
    "# Plot the loss\n",
    "plot_losses(losses)\n",
    "\n",
    "# Validate the model\n",
    "X_test, y_test = load_test_dataset()\n",
    "auc=validate_model(W,b, X_test, y_test)\n",
    "print(f'auc={auc}')\n"
   ]
  },
  {
   "cell_type": "markdown",
   "id": "cb11163f",
   "metadata": {},
   "source": [
    "Just remember the plot and AUC here since we would like to do the similar thing with SPU!"
   ]
  },
  {
   "cell_type": "markdown",
   "id": "e5c4d4b1",
   "metadata": {},
   "source": [
    "## Train a Model with SPU\n",
    "\n",
    "At this part, we are going to show you how to do the similar trainning with MPC securely!"
   ]
  },
  {
   "cell_type": "markdown",
   "id": "8fe0ded7-d861-4506-9b87-4342629a8c5e",
   "metadata": {},
   "source": [
    "### Init the Environment\n",
    "\n",
    "We are going to init three virtual devices on our physical environment.\n",
    "- alice, bob：Two PYU devices for local plaintext computation.\n",
    "- spu：SPU device consists with alice and bob for MPC secure computation."
   ]
  },
  {
   "cell_type": "code",
   "execution_count": 8,
   "id": "14c4f276-7eb0-4dd9-a39b-06b588bcc5bf",
   "metadata": {
    "tags": []
   },
   "outputs": [
    {
     "name": "stderr",
     "output_type": "stream",
     "text": [
      "2022-06-16 12:58:40.997214: W tensorflow/stream_executor/platform/default/dso_loader.cc:64] Could not load dynamic library 'libcudart.so.11.0'; dlerror: libcudart.so.11.0: cannot open shared object file: No such file or directory; LD_LIBRARY_PATH: /opt/rh/devtoolset-10/root/usr/lib64:/opt/rh/devtoolset-10/root/usr/lib:/opt/rh/devtoolset-10/root/usr/lib64/dyninst:/opt/rh/devtoolset-10/root/usr/lib/dyninst:/opt/rh/devtoolset-10/root/usr/lib64:/opt/rh/devtoolset-10/root/usr/lib\n"
     ]
    }
   ],
   "source": [
    "import secretflow as sf\n",
    "\n",
    "# In case you have a running secretflow runtime already.\n",
    "sf.shutdown()\n",
    "\n",
    "sf.init(['alice', 'bob'], num_cpus=8, log_to_driver=True)\n",
    "\n",
    "alice, bob = sf.PYU('alice'), sf.PYU('bob')\n",
    "spu = sf.SPU(sf.utils.testing.cluster_def(['alice', 'bob']))\n"
   ]
  },
  {
   "cell_type": "markdown",
   "id": "cecb025b",
   "metadata": {},
   "source": [
    "### Load the Dataset\n",
    "\n",
    "we instruct alice and bob to load the train subset repectively."
   ]
  },
  {
   "cell_type": "code",
   "execution_count": 9,
   "id": "149864cc-ea35-4f3e-bb7a-2247ef835ea8",
   "metadata": {
    "tags": []
   },
   "outputs": [
    {
     "data": {
      "text/plain": [
       "(<secretflow.device.device.pyu.PYUObject at 0x7ff47c3654c0>,\n",
       " <secretflow.device.device.pyu.PYUObject at 0x7ff304160a30>,\n",
       " <secretflow.device.device.pyu.PYUObject at 0x7ff304160e50>)"
      ]
     },
     "execution_count": 9,
     "metadata": {},
     "output_type": "execute_result"
    }
   ],
   "source": [
    "x1, _ = alice(load_train_dataset)(party_id=1)\n",
    "x2, y = bob(load_train_dataset)(party_id=2)\n",
    "\n",
    "x1, x2, y\n"
   ]
  },
  {
   "cell_type": "markdown",
   "id": "019e3f74-cfa8-458b-b3ca-6d3431d0e64d",
   "metadata": {},
   "source": [
    "Before trainning, we need to pass hyperparamters and all data to SPU device. SecretFlow provides two methods:\n",
    "- secretflow.to: transfer a PythonObject or DeviceObject to a specific device.\n",
    "- DeviceObject.to: transfer the DeviceObject to a specific device."
   ]
  },
  {
   "cell_type": "code",
   "execution_count": 10,
   "id": "a899ee65-a963-4f75-b5bf-e97ed885b52f",
   "metadata": {
    "collapsed": true,
    "jupyter": {
     "outputs_hidden": true
    },
    "tags": []
   },
   "outputs": [],
   "source": [
    "device = spu\n",
    "\n",
    "W = jnp.zeros((30,))\n",
    "b = 0.0\n",
    "\n",
    "W_, b_, x1_, x2_, y_ = (\n",
    "    sf.to(device, W),\n",
    "    sf.to(device, b),\n",
    "    x1.to(device),\n",
    "    x2.to(device),\n",
    "    y.to(device),\n",
    ")\n"
   ]
  },
  {
   "cell_type": "markdown",
   "id": "71fabe33-8a83-4cd7-97ef-66743ce4d492",
   "metadata": {},
   "source": [
    "### Train the model\n",
    "\n",
    "Now we are ready to train a LR model with SPU. After trainning, losses and model are SPUObjects which are still secret."
   ]
  },
  {
   "cell_type": "code",
   "execution_count": 11,
   "id": "d2b3a1a2-f12d-4fe7-bea5-5a6e4faf01ab",
   "metadata": {},
   "outputs": [
    {
     "data": {
      "text/plain": [
       "(<secretflow.device.device.spu.SPUObject at 0x7ff45ca25f10>,\n",
       " <secretflow.device.device.spu.SPUObject at 0x7ff45ca3c910>,\n",
       " <secretflow.device.device.spu.SPUObject at 0x7ff45ca3c820>)"
      ]
     },
     "execution_count": 11,
     "metadata": {},
     "output_type": "execute_result"
    }
   ],
   "source": [
    "losses, W_, b_ = device(fit, static_argnames=['epochs'], num_returns=3)(\n",
    "    W_, b_, x1_, x2_, y_, epochs=10, learning_rate=1e-2\n",
    ")\n",
    "\n",
    "losses, W_, b_\n"
   ]
  },
  {
   "cell_type": "markdown",
   "id": "ea3a5d7b-f16d-4330-a96f-5a4f6b0a2996",
   "metadata": {},
   "source": [
    "### Reveal the result\n",
    "\n",
    "In order to check losses and model, we need to convert SPUObject(secret) to Python object(plaintest). SecretFlow provide `sf.reveal` to convert any DeviceObject to Python object.\n",
    "\n",
    "> Be care with `sf.reveal`，since it may result in secret leak。"
   ]
  },
  {
   "cell_type": "code",
   "execution_count": 12,
   "id": "8a725cc8-21f4-4e02-ae77-a10f2dcd1187",
   "metadata": {},
   "outputs": [
    {
     "name": "stderr",
     "output_type": "stream",
     "text": [
      "\u001b[2m\u001b[36m(pid=2435073)\u001b[0m 2022-06-16 12:58:46.302191: W tensorflow/stream_executor/platform/default/dso_loader.cc:64] Could not load dynamic library 'libcudart.so.11.0'; dlerror: libcudart.so.11.0: cannot open shared object file: No such file or directory; LD_LIBRARY_PATH: /opt/rh/devtoolset-10/root/usr/lib64:/opt/rh/devtoolset-10/root/usr/lib:/opt/rh/devtoolset-10/root/usr/lib64/dyninst:/opt/rh/devtoolset-10/root/usr/lib/dyninst:/opt/rh/devtoolset-10/root/usr/lib64:/opt/rh/devtoolset-10/root/usr/lib\n",
      "\u001b[2m\u001b[36m(pid=2435072)\u001b[0m 2022-06-16 12:58:46.379120: W tensorflow/stream_executor/platform/default/dso_loader.cc:64] Could not load dynamic library 'libcudart.so.11.0'; dlerror: libcudart.so.11.0: cannot open shared object file: No such file or directory; LD_LIBRARY_PATH: /opt/rh/devtoolset-10/root/usr/lib64:/opt/rh/devtoolset-10/root/usr/lib:/opt/rh/devtoolset-10/root/usr/lib64/dyninst:/opt/rh/devtoolset-10/root/usr/lib/dyninst:/opt/rh/devtoolset-10/root/usr/lib64:/opt/rh/devtoolset-10/root/usr/lib\n",
      "\u001b[2m\u001b[36m(_run pid=2435070)\u001b[0m 2022-06-16 12:58:46.476269: W tensorflow/stream_executor/platform/default/dso_loader.cc:64] Could not load dynamic library 'libcudart.so.11.0'; dlerror: libcudart.so.11.0: cannot open shared object file: No such file or directory; LD_LIBRARY_PATH: /opt/rh/devtoolset-10/root/usr/lib64:/opt/rh/devtoolset-10/root/usr/lib:/opt/rh/devtoolset-10/root/usr/lib64/dyninst:/opt/rh/devtoolset-10/root/usr/lib/dyninst:/opt/rh/devtoolset-10/root/usr/lib64:/opt/rh/devtoolset-10/root/usr/lib\n",
      "\u001b[2m\u001b[36m(_run pid=2435071)\u001b[0m 2022-06-16 12:58:46.476269: W tensorflow/stream_executor/platform/default/dso_loader.cc:64] Could not load dynamic library 'libcudart.so.11.0'; dlerror: libcudart.so.11.0: cannot open shared object file: No such file or directory; LD_LIBRARY_PATH: /opt/rh/devtoolset-10/root/usr/lib64:/opt/rh/devtoolset-10/root/usr/lib:/opt/rh/devtoolset-10/root/usr/lib64/dyninst:/opt/rh/devtoolset-10/root/usr/lib/dyninst:/opt/rh/devtoolset-10/root/usr/lib64:/opt/rh/devtoolset-10/root/usr/lib\n",
      "\u001b[2m\u001b[36m(_run pid=2435068)\u001b[0m 2022-06-16 12:58:46.530251: W tensorflow/stream_executor/platform/default/dso_loader.cc:64] Could not load dynamic library 'libcudart.so.11.0'; dlerror: libcudart.so.11.0: cannot open shared object file: No such file or directory; LD_LIBRARY_PATH: /opt/rh/devtoolset-10/root/usr/lib64:/opt/rh/devtoolset-10/root/usr/lib:/opt/rh/devtoolset-10/root/usr/lib64/dyninst:/opt/rh/devtoolset-10/root/usr/lib/dyninst:/opt/rh/devtoolset-10/root/usr/lib64:/opt/rh/devtoolset-10/root/usr/lib\n",
      "\u001b[2m\u001b[36m(SPURuntime pid=2435073)\u001b[0m I0616 12:58:47.934702 2435073 external/com_github_brpc_brpc/src/brpc/server.cpp:1065] Server[yasl::link::internal::ReceiverServiceImpl] is serving on port=48979.\n",
      "\u001b[2m\u001b[36m(SPURuntime pid=2435073)\u001b[0m I0616 12:58:47.934778 2435073 external/com_github_brpc_brpc/src/brpc/server.cpp:1068] Check out http://i85c08157.eu95sqa:48979 in web browser.\n",
      "\u001b[2m\u001b[36m(SPURuntime pid=2435073)\u001b[0m I0616 12:58:48.035530 2435670 external/com_github_brpc_brpc/src/brpc/socket.cpp:2202] Checking Socket{id=0 addr=127.0.0.1:43579} (0x560e3691a380)\n",
      "\u001b[2m\u001b[36m(SPURuntime pid=2435072)\u001b[0m I0616 12:58:48.062223 2435072 external/com_github_brpc_brpc/src/brpc/server.cpp:1065] Server[yasl::link::internal::ReceiverServiceImpl] is serving on port=43579.\n",
      "\u001b[2m\u001b[36m(SPURuntime pid=2435072)\u001b[0m I0616 12:58:48.062291 2435072 external/com_github_brpc_brpc/src/brpc/server.cpp:1068] Check out http://i85c08157.eu95sqa:43579 in web browser.\n",
      "\u001b[2m\u001b[36m(_run pid=2435070)\u001b[0m 2022-06-16 12:58:48,165,165 WARNING [xla_bridge.py:backends:265] No GPU/TPU found, falling back to CPU. (Set TF_CPP_MIN_LOG_LEVEL=0 and rerun for more info.)\n",
      "\u001b[2m\u001b[36m(_run pid=2435071)\u001b[0m 2022-06-16 12:58:48,163,163 WARNING [xla_bridge.py:backends:265] No GPU/TPU found, falling back to CPU. (Set TF_CPP_MIN_LOG_LEVEL=0 and rerun for more info.)\n",
      "\u001b[2m\u001b[36m(_run pid=2435068)\u001b[0m 2022-06-16 12:58:48,241,241 WARNING [xla_bridge.py:backends:265] No GPU/TPU found, falling back to CPU. (Set TF_CPP_MIN_LOG_LEVEL=0 and rerun for more info.)\n",
      "\u001b[2m\u001b[36m(SPURuntime pid=2435073)\u001b[0m I0616 12:58:51.035904 2435676 external/com_github_brpc_brpc/src/brpc/socket.cpp:2262] Revived Socket{id=0 addr=127.0.0.1:43579} (0x560e3691a380) (Connectable)\n",
      "\u001b[2m\u001b[36m(SPURuntime pid=2435073)\u001b[0m WARNING:absl:No GPU/TPU found, falling back to CPU. (Set TF_CPP_MIN_LOG_LEVEL=0 and rerun for more info.)\n",
      "\u001b[2m\u001b[36m(SPURuntime pid=2435072)\u001b[0m WARNING:absl:No GPU/TPU found, falling back to CPU. (Set TF_CPP_MIN_LOG_LEVEL=0 and rerun for more info.)\n"
     ]
    },
    {
     "data": {
      "image/png": "[encoded data removed]",
      "text/plain": [
       "<Figure size 432x288 with 1 Axes>"
      ]
     },
     "metadata": {
      "needs_background": "light"
     },
     "output_type": "display_data"
    }
   ],
   "source": [
    "%matplotlib inline\n",
    "\n",
    "losses = sf.reveal(losses)\n",
    "\n",
    "plot_losses(losses)\n"
   ]
  },
  {
   "cell_type": "markdown",
   "id": "a58ff0dc-e2ac-4dfe-b562-4f3e42059c02",
   "metadata": {},
   "source": [
    "Finally, let's validate the model with AUC."
   ]
  },
  {
   "cell_type": "code",
   "execution_count": 13,
   "id": "9bdffb27-4a44-4ee6-ab00-30d1b906fb38",
   "metadata": {
    "collapsed": true,
    "jupyter": {
     "outputs_hidden": true
    },
    "tags": []
   },
   "outputs": [
    {
     "name": "stdout",
     "output_type": "stream",
     "text": [
      "auc=0.9469048608226007\n"
     ]
    },
    {
     "name": "stderr",
     "output_type": "stream",
     "text": [
      "2022-06-16 13:00:31,412\tERROR worker.py:478 -- print_logs: Connection closed by server.\n",
      "2022-06-16 13:00:31,416\tERROR worker.py:1247 -- listen_error_messages_raylet: Connection closed by server.\n",
      "2022-06-16 13:00:31,420\tERROR import_thread.py:89 -- ImportThread: Connection closed by server.\n"
     ]
    }
   ],
   "source": [
    "auc = validate_model(sf.reveal(W_), sf.reveal(b_), X_test, y_test)\n",
    "print(f'auc={auc}')\n"
   ]
  },
  {
   "cell_type": "markdown",
   "id": "ac49ff9c",
   "metadata": {},
   "source": [
    "You may find the model from SPU trainning program achieve the same AUC as JAX program.\n",
    "\n",
    "This is the end of lab."
   ]
  }
 ],
 "metadata": {
  "kernelspec": {
   "display_name": "Python 3.8.13 ('sf')",
   "language": "python",
   "name": "python3"
  },
  "language_info": {
   "codemirror_mode": {
    "name": "ipython",
    "version": 3
   },
   "file_extension": ".py",
   "mimetype": "text/x-python",
   "name": "python",
   "nbconvert_exporter": "python",
   "pygments_lexer": "ipython3",
   "version": "3.8.13"
  },
  "vscode": {
   "interpreter": {
    "hash": "db45a4cb4cd37a8de684dfb7fcf899b68fccb8bd32d97c5ad13e5de1245c0986"
   }
  }
 },
 "nbformat": 4,
 "nbformat_minor": 5
}
